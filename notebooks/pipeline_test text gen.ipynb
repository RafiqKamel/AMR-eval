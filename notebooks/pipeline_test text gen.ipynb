{
 "cells": [
  {
   "cell_type": "code",
   "execution_count": 1,
   "metadata": {},
   "outputs": [
    {
     "name": "stdout",
     "output_type": "stream",
     "text": [
      "[amr] Loading AMRs from file: /Users/rafiqmazen/GR/AMR/bio/amr/full/t.txt\n"
     ]
    },
    {
     "name": "stderr",
     "output_type": "stream",
     "text": [
      "ignoring epigraph data for duplicate triple: ('d5', ':location', 'c')\n"
     ]
    },
    {
     "name": "stdout",
     "output_type": "stream",
     "text": [
      "[amr] Loading AMRs from file: /Users/rafiqmazen/GR/AMR/bio/amr/full/t.txt\n"
     ]
    },
    {
     "name": "stderr",
     "output_type": "stream",
     "text": [
      "ignoring epigraph data for duplicate triple: ('d5', ':location', 'c')\n"
     ]
    }
   ],
   "source": [
    "from general_parser.loaders import dataset_loader\n",
    "loader = dataset_loader(\"/Users/rafiqmazen/GR/AMR/bio/amr/full/t.txt\")\n",
    "amrs = loader.return_amr_text(loader.return_amrs())\n"
   ]
  },
  {
   "cell_type": "code",
   "execution_count": 2,
   "metadata": {},
   "outputs": [],
   "source": [
    "from general_parser.models import ScriptGeneratorModel\n",
    "parser = ScriptGeneratorModel(model_path = \"/Users/rafiqmazen/GR/StructAdapt\",\n",
    "                              predict_script = \"/test.sh t5-base\",\n",
    "                              checkpoint_path = \"/Users/rafiqmazen/GR/notebooks/models-ckpt/structadapt/ckpt_amr2020\"\n",
    "                              )"
   ]
  },
  {
   "cell_type": "code",
   "execution_count": null,
   "metadata": {},
   "outputs": [],
   "source": [
    "amr_pred = []\n",
    "for sent in loader.sentences:\n",
    "    amr_pred.append(parser.parse_amr(sent,plot=False))"
   ]
  },
  {
   "cell_type": "code",
   "execution_count": 3,
   "metadata": {},
   "outputs": [
    {
     "name": "stdout",
     "output_type": "stream",
     "text": [
      "Error running shell script: Command '['sh', '/Users/rafiqmazen/GR/StructAdapt/test.sh', 't5-base', '/Users/rafiqmazen/GR/notebooks/models-ckpt/structadapt/ckpt_amr2020', '/Users/rafiqmazen/GR/StructAdapt/dataset.txt', '0']' returned non-zero exit status 2.\n"
     ]
    }
   ],
   "source": [
    "amr_pred = parser.predict(amrs)"
   ]
  },
  {
   "cell_type": "code",
   "execution_count": 4,
   "metadata": {},
   "outputs": [
    {
     "data": {
      "text/plain": [
       "2"
      ]
     },
     "execution_count": 4,
     "metadata": {},
     "output_type": "execute_result"
    }
   ],
   "source": [
    "amr_pred"
   ]
  },
  {
   "cell_type": "code",
   "execution_count": null,
   "metadata": {},
   "outputs": [],
   "source": [
    "amr_pred = parser.parse_amr_batches(loader.sentences)"
   ]
  },
  {
   "cell_type": "code",
   "execution_count": null,
   "metadata": {},
   "outputs": [],
   "source": [
    "\n",
    "from general_parser.evaluation.evaluation import eval_bottom_up, eval_top_down, eval_at_each_level, plot_smatch, plot_buckets, evaluate_AMRs"
   ]
  },
  {
   "cell_type": "code",
   "execution_count": null,
   "metadata": {},
   "outputs": [],
   "source": [
    "evaluate_AMRs(preds=amr_pred,gold=loader.text_amrs)"
   ]
  },
  {
   "cell_type": "code",
   "execution_count": null,
   "metadata": {},
   "outputs": [],
   "source": [
    "r = eval_bottom_up(amr_pred,loader.text_amrs, loader.sentences, evaluation_function=\"smatch\")\n",
    "plot_smatch(r, \"bottom up structBART\")\n",
    "plot_buckets(r,\"bottom up structBART\")\n"
   ]
  },
  {
   "cell_type": "code",
   "execution_count": null,
   "metadata": {},
   "outputs": [],
   "source": [
    "r = eval_top_down(amr_pred,loader.text_amrs, loader.sentences, evaluation_function=\"smatch\")\n",
    "plot_smatch(r, \"top down structBART\")\n",
    "plot_buckets(r,\"top down structBART\")"
   ]
  },
  {
   "cell_type": "code",
   "execution_count": null,
   "metadata": {},
   "outputs": [],
   "source": [
    "r = eval_at_each_level(amr_pred,loader.text_amrs, loader.sentences, evaluation_function=\"smatch\")\n",
    "plot_smatch(r, \"exact level structBART\")\n",
    "plot_buckets(r,\"exact level structBART\")"
   ]
  },
  {
   "cell_type": "code",
   "execution_count": null,
   "metadata": {},
   "outputs": [],
   "source": [
    "from amrlib.evaluate.smatch_enhanced import compute_scores, compute_smatch"
   ]
  },
  {
   "cell_type": "code",
   "execution_count": null,
   "metadata": {},
   "outputs": [],
   "source": [
    "from general_parser.evaluation.evaluation import eval_bottom_up\n",
    "\n",
    "r=eval_bottom_up(amr_pred,loader.amr_texts, loader.sentences, evaluation_function=\"smatch\")"
   ]
  },
  {
   "cell_type": "code",
   "execution_count": null,
   "metadata": {},
   "outputs": [],
   "source": [
    "r.dtypes"
   ]
  },
  {
   "cell_type": "code",
   "execution_count": null,
   "metadata": {},
   "outputs": [],
   "source": [
    "import seaborn as sns\n",
    "import matplotlib.pyplot as plt\n",
    "sns.set_theme(style=\"whitegrid\")\n",
    "\n",
    "\n",
    "\n",
    "ax = sns.scatterplot(\n",
    "    results, x=\"n_tokens\", y=\"f1\", legend=\"full\"\n",
    ")\n",
    "sns.scatterplot(\n",
    "    results, x=\"n_tokens\", y=\"recall\", legend=\"full\"\n",
    ")\n",
    "sns.scatterplot(\n",
    "    results, x=\"n_tokens\", y=\"precision\", legend=\"full\"\n",
    ")"
   ]
  },
  {
   "cell_type": "code",
   "execution_count": null,
   "metadata": {},
   "outputs": [],
   "source": [
    "\n",
    "fig,ax = plt.subplots()\n",
    "plt.figure(figsize=(100,60))\n",
    "p = so.Plot(r,x='n_tokens',y='f1', color='n_entries').add(so.Dot(marker='.'))\n",
    "p.on(ax).show()\n",
    "g.on(ax).show()"
   ]
  },
  {
   "cell_type": "code",
   "execution_count": null,
   "metadata": {},
   "outputs": [],
   "source": [
    "sns.scatterplot(x='n_tokens', y='value', hue='variable', \n",
    "             data=pd.melt(r[[\"f1\",\"recall\",\"precision\",\"n_tokens\"]], ['n_tokens']))"
   ]
  },
  {
   "cell_type": "code",
   "execution_count": null,
   "metadata": {},
   "outputs": [],
   "source": [
    "results[\"precision\"] = [x[0] for x in results[\"metrics\"]]\n",
    "results[\"recall\"] = [x[1] for x in results[\"metrics\"]]\n",
    "results[\"f1\"] = [x[2] for x in results[\"metrics\"]]\n",
    "\n"
   ]
  },
  {
   "cell_type": "code",
   "execution_count": null,
   "metadata": {},
   "outputs": [],
   "source": [
    "r"
   ]
  },
  {
   "cell_type": "code",
   "execution_count": null,
   "metadata": {},
   "outputs": [],
   "source": []
  }
 ],
 "metadata": {
  "kernelspec": {
   "display_name": "Python 3.9.18 ('spring2')",
   "language": "python",
   "name": "python3"
  },
  "language_info": {
   "codemirror_mode": {
    "name": "ipython",
    "version": 3
   },
   "file_extension": ".py",
   "mimetype": "text/x-python",
   "name": "python",
   "nbconvert_exporter": "python",
   "pygments_lexer": "ipython3",
   "version": "3.9.18"
  },
  "orig_nbformat": 4,
  "vscode": {
   "interpreter": {
    "hash": "09396d77aa5f751c350c1f23804f710a910791bd0f372ce87b698768334be15e"
   }
  }
 },
 "nbformat": 4,
 "nbformat_minor": 2
}
