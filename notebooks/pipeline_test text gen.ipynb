{
 "cells": [
  {
   "cell_type": "code",
   "execution_count": 7,
   "metadata": {},
   "outputs": [
    {
     "name": "stdout",
     "output_type": "stream",
     "text": [
      "[amr] Loading AMRs from file: /Users/rafiqmazen/AMR-eval/AMR/LP/full.txt\n",
      "[amr] Loading AMRs from file: /Users/rafiqmazen/AMR-eval/AMR/LP/full.txt\n"
     ]
    }
   ],
   "source": [
    "from general_parser.loaders import dataset_loader\n",
    "loader = dataset_loader(\"/Users/rafiqmazen/AMR-eval/AMR/LP/full.txt\")\n",
    "amrs = loader.return_amr_text(loader.return_amrs())\n"
   ]
  },
  {
   "cell_type": "code",
   "execution_count": 2,
   "metadata": {},
   "outputs": [],
   "source": [
    "from general_parser.models import ScriptGeneratorModel\n",
    "parser = ScriptGeneratorModel(model_path = \"/Users/rafiqmazen/GR/StructAdapt\",\n",
    "                              predict_script = \"/test.sh t5-base\",\n",
    "                              checkpoint_path = \"/Users/rafiqmazen/GR/notebooks/models-ckpt/structadapt/ckpt_amr2020\"\n",
    "                              )"
   ]
  },
  {
   "cell_type": "code",
   "execution_count": null,
   "metadata": {},
   "outputs": [],
   "source": [
    "amr_pred = []\n",
    "for sent in loader.sentences:\n",
    "    amr_pred.append(parser.parse_amr(sent,plot=False))"
   ]
  },
  {
   "cell_type": "code",
   "execution_count": 3,
   "metadata": {},
   "outputs": [
    {
     "name": "stdout",
     "output_type": "stream",
     "text": [
      "Error running shell script: Command '['sh', '/Users/rafiqmazen/GR/StructAdapt/test.sh', 't5-base', '/Users/rafiqmazen/GR/notebooks/models-ckpt/structadapt/ckpt_amr2020', '/Users/rafiqmazen/GR/StructAdapt/dataset.txt', '0']' returned non-zero exit status 2.\n"
     ]
    }
   ],
   "source": [
    "amr_pred = parser.predict(amrs)"
   ]
  },
  {
   "cell_type": "code",
   "execution_count": 4,
   "metadata": {},
   "outputs": [
    {
     "data": {
      "text/plain": [
       "2"
      ]
     },
     "execution_count": 4,
     "metadata": {},
     "output_type": "execute_result"
    }
   ],
   "source": [
    "amr_pred"
   ]
  },
  {
   "cell_type": "code",
   "execution_count": null,
   "metadata": {},
   "outputs": [],
   "source": [
    "amr_pred = parser.parse_amr_batches(loader.sentences)"
   ]
  },
  {
   "cell_type": "code",
   "execution_count": 1,
   "metadata": {},
   "outputs": [],
   "source": [
    "import pandas as pd\n",
    "preds = pd.read_csv(\"spring_preds.txt\", delimiter=\"|\", header=None, names=[\"sent\"])"
   ]
  },
  {
   "cell_type": "code",
   "execution_count": 2,
   "metadata": {},
   "outputs": [],
   "source": [
    "import ast\n",
    "preds[\"sent\"] = [ast.literal_eval(x)[0] for x in preds[\"sent\"]]"
   ]
  },
  {
   "cell_type": "code",
   "execution_count": 32,
   "metadata": {},
   "outputs": [
    {
     "data": {
      "text/html": [
       "<div>\n",
       "<style scoped>\n",
       "    .dataframe tbody tr th:only-of-type {\n",
       "        vertical-align: middle;\n",
       "    }\n",
       "\n",
       "    .dataframe tbody tr th {\n",
       "        vertical-align: top;\n",
       "    }\n",
       "\n",
       "    .dataframe thead th {\n",
       "        text-align: right;\n",
       "    }\n",
       "</style>\n",
       "<table border=\"1\" class=\"dataframe\">\n",
       "  <thead>\n",
       "    <tr style=\"text-align: right;\">\n",
       "      <th></th>\n",
       "      <th>sent</th>\n",
       "    </tr>\n",
       "  </thead>\n",
       "  <tbody>\n",
       "    <tr>\n",
       "      <th>0</th>\n",
       "      <td>Chapter 1</td>\n",
       "    </tr>\n",
       "    <tr>\n",
       "      <th>1</th>\n",
       "      <td>I once saw a magnificent picture in \"true stor...</td>\n",
       "    </tr>\n",
       "    <tr>\n",
       "      <th>2</th>\n",
       "      <td>It was a picture of a constrictor boa, swallow...</td>\n",
       "    </tr>\n",
       "    <tr>\n",
       "      <th>3</th>\n",
       "      <td>Here's a copy of the drawing.</td>\n",
       "    </tr>\n",
       "    <tr>\n",
       "      <th>4</th>\n",
       "      <td>The boa, the book says, swallowed its whole pr...</td>\n",
       "    </tr>\n",
       "    <tr>\n",
       "      <th>...</th>\n",
       "      <td>...</td>\n",
       "    </tr>\n",
       "    <tr>\n",
       "      <th>1557</th>\n",
       "      <td>And if you come upon this spot, please don't h...</td>\n",
       "    </tr>\n",
       "    <tr>\n",
       "      <th>1558</th>\n",
       "      <td>Wait a time and you'll be exactly under the star.</td>\n",
       "    </tr>\n",
       "    <tr>\n",
       "      <th>1559</th>\n",
       "      <td>If then a little man appeared with golden hair...</td>\n",
       "    </tr>\n",
       "    <tr>\n",
       "      <th>1560</th>\n",
       "      <td>Please comfort me in this.</td>\n",
       "    </tr>\n",
       "    <tr>\n",
       "      <th>1561</th>\n",
       "      <td>Send me a message if he comes back.</td>\n",
       "    </tr>\n",
       "  </tbody>\n",
       "</table>\n",
       "<p>1562 rows × 1 columns</p>\n",
       "</div>"
      ],
      "text/plain": [
       "                                                   sent\n",
       "0                                             Chapter 1\n",
       "1     I once saw a magnificent picture in \"true stor...\n",
       "2     It was a picture of a constrictor boa, swallow...\n",
       "3                         Here's a copy of the drawing.\n",
       "4     The boa, the book says, swallowed its whole pr...\n",
       "...                                                 ...\n",
       "1557  And if you come upon this spot, please don't h...\n",
       "1558  Wait a time and you'll be exactly under the star.\n",
       "1559  If then a little man appeared with golden hair...\n",
       "1560                         Please comfort me in this.\n",
       "1561                Send me a message if he comes back.\n",
       "\n",
       "[1562 rows x 1 columns]"
      ]
     },
     "execution_count": 32,
     "metadata": {},
     "output_type": "execute_result"
    }
   ],
   "source": [
    "preds"
   ]
  },
  {
   "cell_type": "code",
   "execution_count": 14,
   "metadata": {},
   "outputs": [],
   "source": [
    "\n",
    "import general_parser.evaluation.evaluation\n",
    "from importlib import reload\n",
    "reload(general_parser.evaluation.evaluation)\n",
    "from general_parser.evaluation.evaluation import eval_bottom_up, eval_top_down, eval_at_each_level, plot_smatch, plot_buckets, evaluate_AMRs"
   ]
  },
  {
   "cell_type": "code",
   "execution_count": 4,
   "metadata": {},
   "outputs": [
    {
     "data": {
      "text/plain": [
       "<module 'general_parser.evaluation.evaluation' from '/Users/rafiqmazen/AMR-eval/notebooks/general_parser/evaluation/evaluation.py'>"
      ]
     },
     "execution_count": 4,
     "metadata": {},
     "output_type": "execute_result"
    }
   ],
   "source": [
    "reload(general_parser.evaluation.evaluation)"
   ]
  },
  {
   "cell_type": "code",
   "execution_count": 5,
   "metadata": {},
   "outputs": [
    {
     "ename": "NameError",
     "evalue": "name 'amr_pred' is not defined",
     "output_type": "error",
     "traceback": [
      "\u001b[0;31m---------------------------------------------------------------------------\u001b[0m",
      "\u001b[0;31mNameError\u001b[0m                                 Traceback (most recent call last)",
      "Cell \u001b[0;32mIn[5], line 1\u001b[0m\n\u001b[0;32m----> 1\u001b[0m evaluate_AMRs(preds\u001b[38;5;241m=\u001b[39m\u001b[43mamr_pred\u001b[49m,gold\u001b[38;5;241m=\u001b[39mloader\u001b[38;5;241m.\u001b[39mtext_amrs)\n",
      "\u001b[0;31mNameError\u001b[0m: name 'amr_pred' is not defined"
     ]
    }
   ],
   "source": [
    "evaluate_AMRs(preds=amr_pred,gold=loader.text_amrs)"
   ]
  },
  {
   "cell_type": "code",
   "execution_count": 19,
   "metadata": {},
   "outputs": [],
   "source": [
    "r.to_csv(\"gen lp.csv\")"
   ]
  },
  {
   "cell_type": "code",
   "execution_count": 15,
   "metadata": {},
   "outputs": [
    {
     "name": "stdout",
     "output_type": "stream",
     "text": [
      "max number of tokens: 2 number of entries: 3\n",
      "BLEU score:  0.00\n",
      " \n",
      "max number of tokens: 3 number of entries: 69\n",
      "BLEU score: 65.59\n",
      " \n",
      "max number of tokens: 4 number of entries: 111\n",
      "BLEU score: 56.03\n",
      " \n",
      "max number of tokens: 5 number of entries: 190\n",
      "BLEU score: 58.98\n",
      " \n",
      "max number of tokens: 6 number of entries: 272\n",
      "BLEU score: 61.15\n",
      " \n",
      "max number of tokens: 7 number of entries: 389\n",
      "BLEU score: 62.45\n",
      " \n",
      "max number of tokens: 8 number of entries: 493\n",
      "BLEU score: 62.52\n",
      " \n",
      "max number of tokens: 9 number of entries: 585\n",
      "BLEU score: 63.07\n",
      " \n",
      "max number of tokens: 10 number of entries: 690\n",
      "BLEU score: 63.07\n",
      " \n",
      "max number of tokens: 11 number of entries: 791\n",
      "BLEU score: 62.65\n",
      " \n",
      "max number of tokens: 12 number of entries: 878\n"
     ]
    },
    {
     "name": "stderr",
     "output_type": "stream",
     "text": [
      "/Users/rafiqmazen/.local/lib/python3.9/site-packages/nltk/translate/bleu_score.py:552: UserWarning: \n",
      "The hypothesis contains 0 counts of 3-gram overlaps.\n",
      "Therefore the BLEU score evaluates to 0, independently of\n",
      "how many N-gram overlaps of lower order it contains.\n",
      "Consider using lower n-gram order or use SmoothingFunction()\n",
      "  warnings.warn(_msg)\n",
      "/Users/rafiqmazen/.local/lib/python3.9/site-packages/nltk/translate/bleu_score.py:552: UserWarning: \n",
      "The hypothesis contains 0 counts of 4-gram overlaps.\n",
      "Therefore the BLEU score evaluates to 0, independently of\n",
      "how many N-gram overlaps of lower order it contains.\n",
      "Consider using lower n-gram order or use SmoothingFunction()\n",
      "  warnings.warn(_msg)\n"
     ]
    },
    {
     "name": "stdout",
     "output_type": "stream",
     "text": [
      "BLEU score: 62.43\n",
      " \n",
      "max number of tokens: 13 number of entries: 963\n",
      "BLEU score: 62.66\n",
      " \n",
      "max number of tokens: 14 number of entries: 1029\n",
      "BLEU score: 62.96\n",
      " \n",
      "max number of tokens: 15 number of entries: 1085\n",
      "BLEU score: 62.91\n",
      " \n",
      "max number of tokens: 16 number of entries: 1131\n",
      "BLEU score: 63.10\n",
      " \n",
      "max number of tokens: 17 number of entries: 1181\n",
      "BLEU score: 62.85\n",
      " \n",
      "max number of tokens: 18 number of entries: 1225\n",
      "BLEU score: 62.91\n",
      " \n",
      "max number of tokens: 19 number of entries: 1264\n",
      "BLEU score: 62.83\n",
      " \n",
      "max number of tokens: 20 number of entries: 1296\n",
      "BLEU score: 62.79\n",
      " \n",
      "max number of tokens: 21 number of entries: 1321\n",
      "BLEU score: 62.83\n",
      " \n",
      "max number of tokens: 22 number of entries: 1353\n",
      "BLEU score: 62.77\n",
      " \n",
      "max number of tokens: 23 number of entries: 1379\n",
      "BLEU score: 62.76\n",
      " \n",
      "max number of tokens: 24 number of entries: 1407\n",
      "BLEU score: 62.81\n",
      " \n",
      "max number of tokens: 25 number of entries: 1421\n",
      "BLEU score: 62.83\n",
      " \n",
      "max number of tokens: 26 number of entries: 1435\n",
      "BLEU score: 62.80\n",
      " \n",
      "max number of tokens: 27 number of entries: 1448\n",
      "BLEU score: 62.84\n",
      " \n",
      "max number of tokens: 28 number of entries: 1461\n",
      "BLEU score: 62.87\n",
      " \n",
      "max number of tokens: 29 number of entries: 1467\n",
      "BLEU score: 62.85\n",
      " \n",
      "max number of tokens: 30 number of entries: 1477\n",
      "BLEU score: 62.87\n",
      " \n",
      "max number of tokens: 31 number of entries: 1481\n",
      "BLEU score: 62.87\n",
      " \n",
      "max number of tokens: 32 number of entries: 1495\n",
      "BLEU score: 62.78\n",
      " \n",
      "max number of tokens: 33 number of entries: 1502\n",
      "BLEU score: 62.78\n",
      " \n",
      "max number of tokens: 34 number of entries: 1510\n",
      "BLEU score: 62.78\n",
      " \n",
      "max number of tokens: 35 number of entries: 1512\n",
      "BLEU score: 62.73\n",
      " \n",
      "max number of tokens: 36 number of entries: 1516\n",
      "BLEU score: 62.67\n",
      " \n",
      "max number of tokens: 37 number of entries: 1522\n",
      "BLEU score: 62.68\n",
      " \n",
      "max number of tokens: 38 number of entries: 1526\n",
      "BLEU score: 62.72\n",
      " \n",
      "max number of tokens: 39 number of entries: 1531\n",
      "BLEU score: 62.66\n",
      " \n",
      "max number of tokens: 40 number of entries: 1533\n",
      "BLEU score: 62.62\n",
      " \n",
      "max number of tokens: 41 number of entries: 1536\n",
      "BLEU score: 62.64\n",
      " \n",
      "max number of tokens: 42 number of entries: 1539\n",
      "BLEU score: 62.63\n",
      " \n",
      "max number of tokens: 44 number of entries: 1541\n",
      "BLEU score: 62.67\n",
      " \n",
      "max number of tokens: 45 number of entries: 1543\n",
      "BLEU score: 62.74\n",
      " \n",
      "max number of tokens: 47 number of entries: 1545\n",
      "BLEU score: 62.74\n",
      " \n",
      "max number of tokens: 48 number of entries: 1548\n",
      "BLEU score: 62.73\n",
      " \n",
      "max number of tokens: 49 number of entries: 1550\n",
      "BLEU score: 62.74\n",
      " \n",
      "max number of tokens: 50 number of entries: 1552\n",
      "BLEU score: 62.66\n",
      " \n",
      "max number of tokens: 51 number of entries: 1554\n",
      "BLEU score: 62.66\n",
      " \n",
      "max number of tokens: 52 number of entries: 1555\n",
      "BLEU score: 62.68\n",
      " \n",
      "max number of tokens: 53 number of entries: 1557\n",
      "BLEU score: 62.62\n",
      " \n",
      "max number of tokens: 55 number of entries: 1558\n",
      "BLEU score: 62.59\n",
      " \n",
      "max number of tokens: 58 number of entries: 1559\n",
      "BLEU score: 62.60\n",
      " \n",
      "max number of tokens: 63 number of entries: 1560\n",
      "BLEU score: 62.56\n",
      " \n",
      "max number of tokens: 70 number of entries: 1561\n",
      "BLEU score: 62.53\n",
      " \n",
      "max number of tokens: 101 number of entries: 1562\n",
      "BLEU score: 62.45\n",
      " \n"
     ]
    }
   ],
   "source": [
    "r = eval_bottom_up(preds[\"sent\"],loader.sentences, loader.sentences, evaluation_mode=\"text\",evaluation_function=\"bleu\")\n",
    "#plot_smatch(r, \"bottom up SPRING\")\n",
    "#plot_buckets(r,\"bottom up SPRING\")\n"
   ]
  },
  {
   "cell_type": "code",
   "execution_count": 17,
   "metadata": {},
   "outputs": [
    {
     "name": "stdout",
     "output_type": "stream",
     "text": [
      "min number of tokens: 101 number of entries: 1\n",
      "BLEU score: 43.11\n",
      " \n",
      "min number of tokens: 70 number of entries: 2\n",
      "BLEU score: 46.94\n",
      " \n",
      "min number of tokens: 63 number of entries: 3\n",
      "BLEU score: 47.03\n",
      " \n",
      "min number of tokens: 58 number of entries: 4\n",
      "BLEU score: 50.66\n",
      " \n",
      "min number of tokens: 55 number of entries: 5\n",
      "BLEU score: 51.30\n",
      " \n",
      "min number of tokens: 53 number of entries: 7\n",
      "BLEU score: 51.08\n",
      " \n",
      "min number of tokens: 52 number of entries: 8\n",
      "BLEU score: 53.43\n",
      " \n",
      "min number of tokens: 51 number of entries: 10\n",
      "BLEU score: 55.17\n",
      " \n",
      "min number of tokens: 50 number of entries: 12\n",
      "BLEU score: 53.67\n",
      " \n",
      "min number of tokens: 49 number of entries: 14\n",
      "BLEU score: 54.94\n",
      " \n",
      "min number of tokens: 48 number of entries: 17\n",
      "BLEU score: 56.09\n",
      " \n",
      "min number of tokens: 47 number of entries: 19\n",
      "BLEU score: 56.81\n",
      " \n",
      "min number of tokens: 45 number of entries: 21\n",
      "BLEU score: 58.40\n",
      " \n",
      "min number of tokens: 44 number of entries: 23\n",
      "BLEU score: 59.40\n",
      " \n",
      "min number of tokens: 42 number of entries: 26\n",
      "BLEU score: 59.52\n",
      " \n",
      "min number of tokens: 41 number of entries: 29\n",
      "BLEU score: 60.09\n",
      " \n",
      "min number of tokens: 40 number of entries: 31\n",
      "BLEU score: 59.69\n",
      " \n",
      "min number of tokens: 39 number of entries: 36\n",
      "BLEU score: 59.43\n",
      " \n",
      "min number of tokens: 38 number of entries: 40\n",
      "BLEU score: 60.05\n",
      " \n",
      "min number of tokens: 37 number of entries: 46\n",
      "BLEU score: 60.48\n",
      " \n",
      "min number of tokens: 36 number of entries: 50\n",
      "BLEU score: 60.07\n",
      " \n",
      "min number of tokens: 35 number of entries: 52\n",
      "BLEU score: 59.74\n",
      " \n",
      "min number of tokens: 34 number of entries: 60\n",
      "BLEU score: 60.04\n",
      " \n",
      "min number of tokens: 33 number of entries: 67\n",
      "BLEU score: 60.29\n",
      " \n",
      "min number of tokens: 32 number of entries: 81\n",
      "BLEU score: 60.14\n",
      " \n",
      "min number of tokens: 31 number of entries: 85\n",
      "BLEU score: 60.25\n",
      " \n",
      "min number of tokens: 30 number of entries: 95\n",
      "BLEU score: 60.53\n",
      " \n",
      "min number of tokens: 29 number of entries: 101\n",
      "BLEU score: 60.56\n",
      " \n",
      "min number of tokens: 28 number of entries: 114\n",
      "BLEU score: 60.87\n",
      " \n",
      "min number of tokens: 27 number of entries: 127\n",
      "BLEU score: 61.13\n",
      " \n",
      "min number of tokens: 26 number of entries: 141\n",
      "BLEU score: 61.18\n",
      " \n",
      "min number of tokens: 25 number of entries: 155\n",
      "BLEU score: 61.34\n",
      " \n",
      "min number of tokens: 24 number of entries: 183\n",
      "BLEU score: 61.63\n",
      " \n",
      "min number of tokens: 23 number of entries: 209\n",
      "BLEU score: 61.71\n",
      " \n",
      "min number of tokens: 22 number of entries: 241\n",
      "BLEU score: 61.70\n",
      " \n",
      "min number of tokens: 21 number of entries: 266\n",
      "BLEU score: 61.84\n",
      " \n",
      "min number of tokens: 20 number of entries: 298\n",
      "BLEU score: 61.84\n",
      " \n",
      "min number of tokens: 19 number of entries: 337\n",
      "BLEU score: 61.80\n",
      " \n",
      "min number of tokens: 18 number of entries: 381\n",
      "BLEU score: 61.96\n",
      " \n",
      "min number of tokens: 17 number of entries: 431\n",
      "BLEU score: 61.80\n",
      " \n",
      "min number of tokens: 16 number of entries: 477\n",
      "BLEU score: 62.04\n",
      " \n",
      "min number of tokens: 15 number of entries: 533\n",
      "BLEU score: 62.06\n",
      " \n",
      "min number of tokens: 14 number of entries: 599\n",
      "BLEU score: 62.30\n",
      " \n",
      "min number of tokens: 13 number of entries: 684\n",
      "BLEU score: 62.43\n",
      " \n",
      "min number of tokens: 12 number of entries: 771\n",
      "BLEU score: 62.35\n",
      " \n",
      "min number of tokens: 11 number of entries: 872\n",
      "BLEU score: 62.25\n",
      " \n",
      "min number of tokens: 10 number of entries: 977\n",
      "BLEU score: 62.30\n",
      " \n",
      "min number of tokens: 9 number of entries: 1069\n",
      "BLEU score: 62.42\n",
      " \n",
      "min number of tokens: 8 number of entries: 1173\n",
      "BLEU score: 62.43\n",
      " \n",
      "min number of tokens: 7 number of entries: 1290\n",
      "BLEU score: 62.51\n",
      " \n",
      "min number of tokens: 6 number of entries: 1372\n",
      "BLEU score: 62.54\n",
      " \n",
      "min number of tokens: 5 number of entries: 1451\n",
      "BLEU score: 62.53\n",
      " \n",
      "min number of tokens: 4 number of entries: 1493\n",
      "BLEU score: 62.43\n",
      " \n",
      "min number of tokens: 3 number of entries: 1559\n",
      "BLEU score: 62.45\n",
      " \n",
      "min number of tokens: 2 number of entries: 1562\n",
      "BLEU score: 62.45\n",
      " \n"
     ]
    },
    {
     "data": {
      "image/png": "[encoded data removed]",
      "text/plain": [
       "<Figure size 640x480 with 2 Axes>"
      ]
     },
     "metadata": {},
     "output_type": "display_data"
    },
    {
     "data": {
      "text/plain": [
       "<Figure size 10000x12000 with 0 Axes>"
      ]
     },
     "metadata": {},
     "output_type": "display_data"
    }
   ],
   "source": [
    "r = eval_top_down(preds[\"sent\"],loader.sentences, loader.sentences,  evaluation_mode=\"text\",evaluation_function=\"bleu\")\n",
    "#plot_smatch(r, \"top down SPRING\")\n",
    "plot_buckets(r,\"SPRING AMR2Text\")"
   ]
  },
  {
   "cell_type": "code",
   "execution_count": 24,
   "metadata": {},
   "outputs": [
    {
     "name": "stdout",
     "output_type": "stream",
     "text": [
      "number of tokens: 101 number of entries: 1\n",
      "BLEU score: 43.11\n",
      " \n",
      "number of tokens: 70 number of entries: 1\n",
      "BLEU score: 52.51\n",
      " \n",
      "number of tokens: 63 number of entries: 1\n",
      "BLEU score: 47.24\n",
      " \n",
      "number of tokens: 58 number of entries: 1\n",
      "BLEU score: 65.12\n",
      " \n",
      "number of tokens: 55 number of entries: 1\n",
      "BLEU score: 53.38\n",
      " \n",
      "number of tokens: 53 number of entries: 2\n",
      "BLEU score: 50.31\n",
      " \n",
      "number of tokens: 52 number of entries: 1\n",
      "BLEU score: 70.54\n",
      " \n",
      "number of tokens: 51 number of entries: 2\n",
      "BLEU score: 62.80\n",
      " \n",
      "number of tokens: 50 number of entries: 2\n",
      "BLEU score: 43.62\n",
      " \n",
      "number of tokens: 49 number of entries: 2\n",
      "BLEU score: 64.48\n",
      " \n",
      "number of tokens: 48 number of entries: 3\n",
      "BLEU score: 62.17\n",
      " \n",
      "number of tokens: 47 number of entries: 2\n",
      "BLEU score: 62.89\n",
      " \n",
      "number of tokens: 45 number of entries: 2\n",
      "BLEU score: 74.34\n",
      " \n",
      "number of tokens: 44 number of entries: 2\n",
      "BLEU score: 71.73\n",
      " \n",
      "number of tokens: 42 number of entries: 3\n",
      "BLEU score: 60.73\n",
      " \n",
      "number of tokens: 41 number of entries: 3\n",
      "BLEU score: 66.00\n",
      " \n",
      "number of tokens: 40 number of entries: 2\n",
      "BLEU score: 52.69\n",
      " \n",
      "number of tokens: 39 number of entries: 5\n",
      "BLEU score: 57.20\n",
      " \n",
      "number of tokens: 38 number of entries: 4\n",
      "BLEU score: 66.63\n",
      " \n",
      "number of tokens: 37 number of entries: 6\n",
      "BLEU score: 64.02\n",
      " \n",
      "number of tokens: 36 number of entries: 4\n",
      "BLEU score: 53.38\n",
      " \n",
      "number of tokens: 35 number of entries: 2\n",
      "BLEU score: 48.97\n",
      " \n",
      "number of tokens: 34 number of entries: 8\n",
      "BLEU score: 62.64\n",
      " \n",
      "number of tokens: 33 number of entries: 7\n",
      "BLEU score: 63.15\n",
      " \n",
      "number of tokens: 32 number of entries: 14\n",
      "BLEU score: 59.02\n",
      " \n",
      "number of tokens: 31 number of entries: 4\n",
      "BLEU score: 63.22\n",
      " \n",
      "number of tokens: 30 number of entries: 10\n",
      "BLEU score: 63.73\n",
      " \n",
      "number of tokens: 29 number of entries: 6\n",
      "BLEU score: 61.13\n",
      " \n",
      "number of tokens: 28 number of entries: 13\n",
      "BLEU score: 64.22\n",
      " \n",
      "number of tokens: 27 number of entries: 13\n",
      "BLEU score: 64.11\n",
      " \n",
      "number of tokens: 26 number of entries: 14\n",
      "BLEU score: 61.80\n",
      " \n",
      "number of tokens: 25 number of entries: 14\n",
      "BLEU score: 63.58\n",
      " \n",
      "number of tokens: 24 number of entries: 28\n",
      "BLEU score: 63.89\n",
      " \n",
      "number of tokens: 23 number of entries: 26\n",
      "BLEU score: 62.58\n",
      " \n",
      "number of tokens: 22 number of entries: 32\n",
      "BLEU score: 61.55\n",
      " \n",
      "number of tokens: 21 number of entries: 25\n",
      "BLEU score: 63.76\n",
      " \n",
      "number of tokens: 20 number of entries: 32\n",
      "BLEU score: 61.77\n",
      " \n",
      "number of tokens: 19 number of entries: 39\n",
      "BLEU score: 61.33\n",
      " \n",
      "number of tokens: 18 number of entries: 44\n",
      "BLEU score: 63.73\n",
      " \n",
      "number of tokens: 17 number of entries: 50\n",
      "BLEU score: 59.87\n",
      " \n",
      "number of tokens: 16 number of entries: 46\n",
      "BLEU score: 65.38\n",
      " \n",
      "number of tokens: 15 number of entries: 56\n",
      "BLEU score: 62.42\n",
      " \n",
      "number of tokens: 14 number of entries: 66\n",
      "BLEU score: 65.45\n",
      " \n",
      "number of tokens: 13 number of entries: 85\n",
      "BLEU score: 63.97\n",
      " \n",
      "number of tokens: 12 number of entries: 87\n",
      "BLEU score: 61.22\n",
      " \n",
      "number of tokens: 11 number of entries: 101\n",
      "BLEU score: 60.80\n",
      " \n",
      "number of tokens: 10 number of entries: 105\n",
      "BLEU score: 63.05\n",
      " \n",
      "number of tokens: 9 number of entries: 92\n",
      "BLEU score: 64.88\n",
      " \n",
      "number of tokens: 8 number of entries: 104\n",
      "BLEU score: 62.62\n",
      " \n",
      "number of tokens: 7 number of entries: 117\n",
      "BLEU score: 64.23\n",
      " \n",
      "number of tokens: 6 number of entries: 82\n",
      "BLEU score: 64.01\n",
      " \n",
      "number of tokens: 5 number of entries: 79\n",
      "BLEU score: 61.29\n",
      " \n",
      "number of tokens: 4 number of entries: 42\n",
      "BLEU score: 43.86\n",
      " \n",
      "number of tokens: 3 number of entries: 66\n",
      "BLEU score: 66.62\n",
      " \n",
      "number of tokens: 2 number of entries: 3\n",
      "BLEU score:  0.00\n",
      " \n"
     ]
    },
    {
     "name": "stderr",
     "output_type": "stream",
     "text": [
      "/Users/rafiqmazen/.local/lib/python3.9/site-packages/nltk/translate/bleu_score.py:552: UserWarning: \n",
      "The hypothesis contains 0 counts of 3-gram overlaps.\n",
      "Therefore the BLEU score evaluates to 0, independently of\n",
      "how many N-gram overlaps of lower order it contains.\n",
      "Consider using lower n-gram order or use SmoothingFunction()\n",
      "  warnings.warn(_msg)\n",
      "/Users/rafiqmazen/.local/lib/python3.9/site-packages/nltk/translate/bleu_score.py:552: UserWarning: \n",
      "The hypothesis contains 0 counts of 4-gram overlaps.\n",
      "Therefore the BLEU score evaluates to 0, independently of\n",
      "how many N-gram overlaps of lower order it contains.\n",
      "Consider using lower n-gram order or use SmoothingFunction()\n",
      "  warnings.warn(_msg)\n"
     ]
    },
    {
     "data": {
      "image/png": "[encoded data removed]",
      "text/plain": [
       "<Figure size 640x480 with 2 Axes>"
      ]
     },
     "metadata": {},
     "output_type": "display_data"
    },
    {
     "data": {
      "text/plain": [
       "<Figure size 10000x12000 with 0 Axes>"
      ]
     },
     "metadata": {},
     "output_type": "display_data"
    },
    {
     "data": {
      "image/png": "[encoded data removed]",
      "text/plain": [
       "<Figure size 640x480 with 2 Axes>"
      ]
     },
     "metadata": {},
     "output_type": "display_data"
    },
    {
     "data": {
      "text/plain": [
       "<Figure size 10000x12000 with 0 Axes>"
      ]
     },
     "metadata": {},
     "output_type": "display_data"
    }
   ],
   "source": [
    "r = eval_at_each_level(preds[\"sent\"],loader.sentences, loader.sentences,  evaluation_mode=\"text\",evaluation_function=\"bleu\")\n",
    "plot_smatch(r, \"exact level SPRING\")\n",
    "plot_buckets(r,\"exact level SPRING\")"
   ]
  },
  {
   "cell_type": "code",
   "execution_count": null,
   "metadata": {},
   "outputs": [],
   "source": [
    "from amrlib.evaluate.smatch_enhanced import compute_scores, compute_smatch"
   ]
  },
  {
   "cell_type": "code",
   "execution_count": null,
   "metadata": {},
   "outputs": [],
   "source": [
    "from general_parser.evaluation.evaluation import eval_bottom_up\n",
    "\n",
    "r=eval_bottom_up(amr_pred,loader.amr_texts, loader.sentences, evaluation_function=\"smatch\")"
   ]
  },
  {
   "cell_type": "code",
   "execution_count": null,
   "metadata": {},
   "outputs": [],
   "source": [
    "r.dtypes"
   ]
  },
  {
   "cell_type": "code",
   "execution_count": null,
   "metadata": {},
   "outputs": [],
   "source": [
    "import seaborn as sns\n",
    "import matplotlib.pyplot as plt\n",
    "sns.set_theme(style=\"whitegrid\")\n",
    "\n",
    "\n",
    "\n",
    "ax = sns.scatterplot(\n",
    "    results, x=\"n_tokens\", y=\"f1\", legend=\"full\"\n",
    ")\n",
    "sns.scatterplot(\n",
    "    results, x=\"n_tokens\", y=\"recall\", legend=\"full\"\n",
    ")\n",
    "sns.scatterplot(\n",
    "    results, x=\"n_tokens\", y=\"precision\", legend=\"full\"\n",
    ")"
   ]
  },
  {
   "cell_type": "code",
   "execution_count": null,
   "metadata": {},
   "outputs": [],
   "source": [
    "\n",
    "fig,ax = plt.subplots()\n",
    "plt.figure(figsize=(100,60))\n",
    "p = so.Plot(r,x='n_tokens',y='f1', color='n_entries').add(so.Dot(marker='.'))\n",
    "p.on(ax).show()\n",
    "g.on(ax).show()"
   ]
  },
  {
   "cell_type": "code",
   "execution_count": null,
   "metadata": {},
   "outputs": [],
   "source": [
    "sns.scatterplot(x='n_tokens', y='value', hue='variable', \n",
    "             data=pd.melt(r[[\"f1\",\"recall\",\"precision\",\"n_tokens\"]], ['n_tokens']))"
   ]
  },
  {
   "cell_type": "code",
   "execution_count": null,
   "metadata": {},
   "outputs": [],
   "source": [
    "results[\"precision\"] = [x[0] for x in results[\"metrics\"]]\n",
    "results[\"recall\"] = [x[1] for x in results[\"metrics\"]]\n",
    "results[\"f1\"] = [x[2] for x in results[\"metrics\"]]\n",
    "\n"
   ]
  },
  {
   "cell_type": "code",
   "execution_count": null,
   "metadata": {},
   "outputs": [],
   "source": [
    "r"
   ]
  },
  {
   "cell_type": "code",
   "execution_count": 1,
   "metadata": {},
   "outputs": [],
   "source": [
    "\n",
    "from amrlib.evaluate.smatch_enhanced import compute_scores, get_entries, compute_smatch\n",
    "from amrlib.evaluate.bleu_scorer import BLEUScorer\n",
    "from nltk.tokenize import word_tokenize\n",
    "import pandas as pd\n",
    "import seaborn.objects as so\n",
    "import matplotlib.pyplot as plt\n",
    "import seaborn as sns\n",
    "\n",
    "\n",
    "def evaluate_text_bleu(ref, hyp):\n",
    "    bleu_scorer = BLEUScorer()\n",
    "    bleu_score, ref_len, hyp_len = bleu_scorer.compute_bleu(ref, hyp)\n",
    "    print('BLEU score: %5.2f' % (bleu_score*100.))\n",
    "    return bleu_score"
   ]
  },
  {
   "cell_type": "code",
   "execution_count": 5,
   "metadata": {},
   "outputs": [
    {
     "name": "stdout",
     "output_type": "stream",
     "text": [
      "BLEU score: 47.26\n"
     ]
    },
    {
     "data": {
      "text/plain": [
       "0.47263127614238293"
      ]
     },
     "execution_count": 5,
     "metadata": {},
     "output_type": "execute_result"
    }
   ],
   "source": [
    "evaluate_text_bleu([\"sara is nice\", \"rafiq is cool\"],[\"nice sara\", \"cool rafiq\"],)"
   ]
  },
  {
   "cell_type": "code",
   "execution_count": null,
   "metadata": {},
   "outputs": [],
   "source": []
  }
 ],
 "metadata": {
  "kernelspec": {
   "display_name": "Python 3.9.18 ('spring2')",
   "language": "python",
   "name": "python3"
  },
  "language_info": {
   "codemirror_mode": {
    "name": "ipython",
    "version": 3
   },
   "file_extension": ".py",
   "mimetype": "text/x-python",
   "name": "python",
   "nbconvert_exporter": "python",
   "pygments_lexer": "ipython3",
   "version": "3.9.18"
  },
  "orig_nbformat": 4,
  "vscode": {
   "interpreter": {
    "hash": "09396d77aa5f751c350c1f23804f710a910791bd0f372ce87b698768334be15e"
   }
  }
 },
 "nbformat": 4,
 "nbformat_minor": 2
}
